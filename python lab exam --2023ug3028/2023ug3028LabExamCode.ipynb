{
 "cells": [
  {
   "cell_type": "code",
   "execution_count": 1,
   "metadata": {},
   "outputs": [],
   "source": [
    "import pandas as pd\n",
    "import numpy as np"
   ]
  },
  {
   "cell_type": "code",
   "execution_count": 2,
   "metadata": {},
   "outputs": [],
   "source": [
    "#reading csv file\n",
    "df=pd.read_csv('AQI_Data.csv')"
   ]
  },
  {
   "cell_type": "code",
   "execution_count": 3,
   "metadata": {},
   "outputs": [
    {
     "name": "stdout",
     "output_type": "stream",
     "text": [
      "displaying the first 8 rows : \n"
     ]
    },
    {
     "data": {
      "text/html": [
       "<div>\n",
       "<style scoped>\n",
       "    .dataframe tbody tr th:only-of-type {\n",
       "        vertical-align: middle;\n",
       "    }\n",
       "\n",
       "    .dataframe tbody tr th {\n",
       "        vertical-align: top;\n",
       "    }\n",
       "\n",
       "    .dataframe thead th {\n",
       "        text-align: right;\n",
       "    }\n",
       "</style>\n",
       "<table border=\"1\" class=\"dataframe\">\n",
       "  <thead>\n",
       "    <tr style=\"text-align: right;\">\n",
       "      <th></th>\n",
       "      <th>City</th>\n",
       "      <th>Date</th>\n",
       "      <th>AQI</th>\n",
       "      <th>PM2.5</th>\n",
       "      <th>PM10</th>\n",
       "      <th>NO2</th>\n",
       "      <th>CO</th>\n",
       "      <th>O3</th>\n",
       "      <th>SO2</th>\n",
       "    </tr>\n",
       "  </thead>\n",
       "  <tbody>\n",
       "    <tr>\n",
       "      <th>0</th>\n",
       "      <td>Delhi</td>\n",
       "      <td>2024-01-01</td>\n",
       "      <td>152</td>\n",
       "      <td>153</td>\n",
       "      <td>151</td>\n",
       "      <td>26.509131</td>\n",
       "      <td>1.581413</td>\n",
       "      <td>123.401530</td>\n",
       "      <td>25.062474</td>\n",
       "    </tr>\n",
       "    <tr>\n",
       "      <th>1</th>\n",
       "      <td>Delhi</td>\n",
       "      <td>2024-01-02</td>\n",
       "      <td>264</td>\n",
       "      <td>288</td>\n",
       "      <td>268</td>\n",
       "      <td>87.955853</td>\n",
       "      <td>1.242119</td>\n",
       "      <td>144.533790</td>\n",
       "      <td>5.926302</td>\n",
       "    </tr>\n",
       "    <tr>\n",
       "      <th>2</th>\n",
       "      <td>Delhi</td>\n",
       "      <td>2024-01-03</td>\n",
       "      <td>307</td>\n",
       "      <td>344</td>\n",
       "      <td>357</td>\n",
       "      <td>94.469744</td>\n",
       "      <td>0.101480</td>\n",
       "      <td>198.520196</td>\n",
       "      <td>32.786668</td>\n",
       "    </tr>\n",
       "    <tr>\n",
       "      <th>3</th>\n",
       "      <td>Delhi</td>\n",
       "      <td>2024-01-04</td>\n",
       "      <td>363</td>\n",
       "      <td>334</td>\n",
       "      <td>347</td>\n",
       "      <td>12.075618</td>\n",
       "      <td>1.097072</td>\n",
       "      <td>85.973585</td>\n",
       "      <td>7.099955</td>\n",
       "    </tr>\n",
       "    <tr>\n",
       "      <th>4</th>\n",
       "      <td>Delhi</td>\n",
       "      <td>2024-01-05</td>\n",
       "      <td>237</td>\n",
       "      <td>266</td>\n",
       "      <td>250</td>\n",
       "      <td>51.046299</td>\n",
       "      <td>1.591834</td>\n",
       "      <td>47.938019</td>\n",
       "      <td>28.140550</td>\n",
       "    </tr>\n",
       "    <tr>\n",
       "      <th>5</th>\n",
       "      <td>Delhi</td>\n",
       "      <td>2024-01-06</td>\n",
       "      <td>369</td>\n",
       "      <td>321</td>\n",
       "      <td>327</td>\n",
       "      <td>64.679037</td>\n",
       "      <td>0.423996</td>\n",
       "      <td>22.359803</td>\n",
       "      <td>47.699849</td>\n",
       "    </tr>\n",
       "    <tr>\n",
       "      <th>6</th>\n",
       "      <td>Delhi</td>\n",
       "      <td>2024-01-07</td>\n",
       "      <td>365</td>\n",
       "      <td>328</td>\n",
       "      <td>347</td>\n",
       "      <td>44.687485</td>\n",
       "      <td>0.130336</td>\n",
       "      <td>53.869827</td>\n",
       "      <td>15.846146</td>\n",
       "    </tr>\n",
       "    <tr>\n",
       "      <th>7</th>\n",
       "      <td>Delhi</td>\n",
       "      <td>2024-01-08</td>\n",
       "      <td>493</td>\n",
       "      <td>513</td>\n",
       "      <td>526</td>\n",
       "      <td>54.565922</td>\n",
       "      <td>0.165338</td>\n",
       "      <td>182.770876</td>\n",
       "      <td>16.645099</td>\n",
       "    </tr>\n",
       "  </tbody>\n",
       "</table>\n",
       "</div>"
      ],
      "text/plain": [
       "    City        Date  AQI  PM2.5  PM10        NO2        CO          O3  \\\n",
       "0  Delhi  2024-01-01  152    153   151  26.509131  1.581413  123.401530   \n",
       "1  Delhi  2024-01-02  264    288   268  87.955853  1.242119  144.533790   \n",
       "2  Delhi  2024-01-03  307    344   357  94.469744  0.101480  198.520196   \n",
       "3  Delhi  2024-01-04  363    334   347  12.075618  1.097072   85.973585   \n",
       "4  Delhi  2024-01-05  237    266   250  51.046299  1.591834   47.938019   \n",
       "5  Delhi  2024-01-06  369    321   327  64.679037  0.423996   22.359803   \n",
       "6  Delhi  2024-01-07  365    328   347  44.687485  0.130336   53.869827   \n",
       "7  Delhi  2024-01-08  493    513   526  54.565922  0.165338  182.770876   \n",
       "\n",
       "         SO2  \n",
       "0  25.062474  \n",
       "1   5.926302  \n",
       "2  32.786668  \n",
       "3   7.099955  \n",
       "4  28.140550  \n",
       "5  47.699849  \n",
       "6  15.846146  \n",
       "7  16.645099  "
      ]
     },
     "execution_count": 3,
     "metadata": {},
     "output_type": "execute_result"
    }
   ],
   "source": [
    "#displaying the first 8 rows\n",
    "print('displaying the first 8 rows : ')\n",
    "df.head(8)"
   ]
  },
  {
   "cell_type": "code",
   "execution_count": 4,
   "metadata": {},
   "outputs": [
    {
     "name": "stdout",
     "output_type": "stream",
     "text": [
      "displaying the last 5 rows : \n"
     ]
    },
    {
     "data": {
      "text/html": [
       "<div>\n",
       "<style scoped>\n",
       "    .dataframe tbody tr th:only-of-type {\n",
       "        vertical-align: middle;\n",
       "    }\n",
       "\n",
       "    .dataframe tbody tr th {\n",
       "        vertical-align: top;\n",
       "    }\n",
       "\n",
       "    .dataframe thead th {\n",
       "        text-align: right;\n",
       "    }\n",
       "</style>\n",
       "<table border=\"1\" class=\"dataframe\">\n",
       "  <thead>\n",
       "    <tr style=\"text-align: right;\">\n",
       "      <th></th>\n",
       "      <th>City</th>\n",
       "      <th>Date</th>\n",
       "      <th>AQI</th>\n",
       "      <th>PM2.5</th>\n",
       "      <th>PM10</th>\n",
       "      <th>NO2</th>\n",
       "      <th>CO</th>\n",
       "      <th>O3</th>\n",
       "      <th>SO2</th>\n",
       "    </tr>\n",
       "  </thead>\n",
       "  <tbody>\n",
       "    <tr>\n",
       "      <th>2557</th>\n",
       "      <td>Pune</td>\n",
       "      <td>2024-12-27</td>\n",
       "      <td>419</td>\n",
       "      <td>448</td>\n",
       "      <td>462</td>\n",
       "      <td>26.701714</td>\n",
       "      <td>1.553582</td>\n",
       "      <td>86.973954</td>\n",
       "      <td>44.263423</td>\n",
       "    </tr>\n",
       "    <tr>\n",
       "      <th>2558</th>\n",
       "      <td>Pune</td>\n",
       "      <td>2024-12-28</td>\n",
       "      <td>252</td>\n",
       "      <td>202</td>\n",
       "      <td>182</td>\n",
       "      <td>19.920962</td>\n",
       "      <td>1.599821</td>\n",
       "      <td>41.939484</td>\n",
       "      <td>20.545087</td>\n",
       "    </tr>\n",
       "    <tr>\n",
       "      <th>2559</th>\n",
       "      <td>Pune</td>\n",
       "      <td>2024-12-29</td>\n",
       "      <td>365</td>\n",
       "      <td>414</td>\n",
       "      <td>410</td>\n",
       "      <td>80.815702</td>\n",
       "      <td>1.919950</td>\n",
       "      <td>39.982167</td>\n",
       "      <td>22.646297</td>\n",
       "    </tr>\n",
       "    <tr>\n",
       "      <th>2560</th>\n",
       "      <td>Pune</td>\n",
       "      <td>2024-12-30</td>\n",
       "      <td>253</td>\n",
       "      <td>269</td>\n",
       "      <td>285</td>\n",
       "      <td>66.231614</td>\n",
       "      <td>0.611800</td>\n",
       "      <td>63.966705</td>\n",
       "      <td>10.580135</td>\n",
       "    </tr>\n",
       "    <tr>\n",
       "      <th>2561</th>\n",
       "      <td>Pune</td>\n",
       "      <td>2024-12-31</td>\n",
       "      <td>95</td>\n",
       "      <td>140</td>\n",
       "      <td>117</td>\n",
       "      <td>99.505459</td>\n",
       "      <td>0.122817</td>\n",
       "      <td>112.774765</td>\n",
       "      <td>30.814997</td>\n",
       "    </tr>\n",
       "  </tbody>\n",
       "</table>\n",
       "</div>"
      ],
      "text/plain": [
       "      City        Date  AQI  PM2.5  PM10        NO2        CO          O3  \\\n",
       "2557  Pune  2024-12-27  419    448   462  26.701714  1.553582   86.973954   \n",
       "2558  Pune  2024-12-28  252    202   182  19.920962  1.599821   41.939484   \n",
       "2559  Pune  2024-12-29  365    414   410  80.815702  1.919950   39.982167   \n",
       "2560  Pune  2024-12-30  253    269   285  66.231614  0.611800   63.966705   \n",
       "2561  Pune  2024-12-31   95    140   117  99.505459  0.122817  112.774765   \n",
       "\n",
       "            SO2  \n",
       "2557  44.263423  \n",
       "2558  20.545087  \n",
       "2559  22.646297  \n",
       "2560  10.580135  \n",
       "2561  30.814997  "
      ]
     },
     "execution_count": 4,
     "metadata": {},
     "output_type": "execute_result"
    }
   ],
   "source": [
    "#displaying the last 5 rows\n",
    "print('displaying the last 5 rows : ')\n",
    "df.tail(5)"
   ]
  },
  {
   "cell_type": "code",
   "execution_count": 5,
   "metadata": {},
   "outputs": [
    {
     "name": "stdout",
     "output_type": "stream",
     "text": [
      "<class 'pandas.core.frame.DataFrame'>\n",
      "RangeIndex: 2562 entries, 0 to 2561\n",
      "Data columns (total 9 columns):\n",
      " #   Column  Non-Null Count  Dtype  \n",
      "---  ------  --------------  -----  \n",
      " 0   City    2562 non-null   object \n",
      " 1   Date    2562 non-null   object \n",
      " 2   AQI     2562 non-null   int64  \n",
      " 3   PM2.5   2562 non-null   int64  \n",
      " 4   PM10    2562 non-null   int64  \n",
      " 5   NO2     2562 non-null   float64\n",
      " 6   CO      2562 non-null   float64\n",
      " 7   O3      2562 non-null   float64\n",
      " 8   SO2     2562 non-null   float64\n",
      "dtypes: float64(4), int64(3), object(2)\n",
      "memory usage: 180.3+ KB\n"
     ]
    }
   ],
   "source": [
    "#prints the non null count of each column along with their dtype\n",
    "df.info()\n"
   ]
  },
  {
   "cell_type": "code",
   "execution_count": 6,
   "metadata": {},
   "outputs": [
    {
     "data": {
      "text/plain": [
       "City\n",
       "Bangalore    279.543716\n",
       "Chennai      274.314208\n",
       "Delhi        279.153005\n",
       "Hyderabad    280.355191\n",
       "Kolkata      265.901639\n",
       "Mumbai       287.797814\n",
       "Pune         276.379781\n",
       "Name: AQI, dtype: float64"
      ]
     },
     "execution_count": 6,
     "metadata": {},
     "output_type": "execute_result"
    }
   ],
   "source": [
    "#gropus the data wrt City and display the mean of AQI of each city\n",
    "df.groupby('City')['AQI'].mean()"
   ]
  },
  {
   "cell_type": "code",
   "execution_count": 7,
   "metadata": {},
   "outputs": [
    {
     "data": {
      "text/plain": [
       "City\n",
       "Bangalore    527\n",
       "Chennai      530\n",
       "Delhi        539\n",
       "Hyderabad    543\n",
       "Kolkata      535\n",
       "Mumbai       519\n",
       "Pune         532\n",
       "Name: PM2.5, dtype: int64"
      ]
     },
     "execution_count": 7,
     "metadata": {},
     "output_type": "execute_result"
    }
   ],
   "source": [
    "#gropus the data wrt City and display the max value of PM2.5 of each city\n",
    "df.groupby('City')['PM2.5'].max()"
   ]
  },
  {
   "cell_type": "code",
   "execution_count": 8,
   "metadata": {},
   "outputs": [
    {
     "data": {
      "text/plain": [
       "City\n",
       "Bangalore    -1\n",
       "Chennai     -26\n",
       "Delhi       -17\n",
       "Hyderabad    15\n",
       "Kolkata      -8\n",
       "Mumbai       20\n",
       "Pune          6\n",
       "Name: PM10, dtype: int64"
      ]
     },
     "execution_count": 8,
     "metadata": {},
     "output_type": "execute_result"
    }
   ],
   "source": [
    "#gropus the data wrt City and display the minimum value of PM10 of each city\n",
    "df.groupby('City')['PM10'].min()"
   ]
  },
  {
   "cell_type": "code",
   "execution_count": 9,
   "metadata": {},
   "outputs": [],
   "source": [
    "city,count=np.unique(df['City'],return_counts=True)\n"
   ]
  },
  {
   "cell_type": "code",
   "execution_count": 10,
   "metadata": {},
   "outputs": [
    {
     "name": "stdout",
     "output_type": "stream",
     "text": [
      "Unique City to No. of Rows Count is :\n",
      "Bangalore : 366\n",
      "Chennai : 366\n",
      "Delhi : 366\n",
      "Hyderabad : 366\n",
      "Kolkata : 366\n",
      "Mumbai : 366\n",
      "Pune : 366\n"
     ]
    }
   ],
   "source": [
    "res=dict(zip(city,count))\n",
    "print('Unique City to No. of Rows Count is :')\n",
    "for key in res:\n",
    "    print(f'{key} : {res[key]}')"
   ]
  },
  {
   "cell_type": "code",
   "execution_count": 11,
   "metadata": {},
   "outputs": [
    {
     "name": "stdout",
     "output_type": "stream",
     "text": [
      "printing the pollutant concentration sum for each row\n"
     ]
    },
    {
     "data": {
      "text/plain": [
       "0        480.554548\n",
       "1        795.658064\n",
       "2       1026.878088\n",
       "3        787.246230\n",
       "4        644.716701\n",
       "           ...     \n",
       "2557    1069.492674\n",
       "2558     468.005355\n",
       "2559     969.364116\n",
       "2560     695.390254\n",
       "2561     500.218038\n",
       "Length: 2562, dtype: float64"
      ]
     },
     "execution_count": 11,
     "metadata": {},
     "output_type": "execute_result"
    }
   ],
   "source": [
    "#printing the pollutant concentration sum for each row\n",
    "print('printing the pollutant concentration sum for each row')\n",
    "Pollutant_Concentration=df['PM2.5']+df['PM10']+df['NO2']+df['CO']+df['O3']+df['SO2']\n",
    "Pollutant_Concentration\n"
   ]
  },
  {
   "cell_type": "code",
   "execution_count": 12,
   "metadata": {},
   "outputs": [
    {
     "data": {
      "text/html": [
       "<div>\n",
       "<style scoped>\n",
       "    .dataframe tbody tr th:only-of-type {\n",
       "        vertical-align: middle;\n",
       "    }\n",
       "\n",
       "    .dataframe tbody tr th {\n",
       "        vertical-align: top;\n",
       "    }\n",
       "\n",
       "    .dataframe thead th {\n",
       "        text-align: right;\n",
       "    }\n",
       "</style>\n",
       "<table border=\"1\" class=\"dataframe\">\n",
       "  <thead>\n",
       "    <tr style=\"text-align: right;\">\n",
       "      <th></th>\n",
       "      <th>City</th>\n",
       "      <th>Date</th>\n",
       "      <th>AQI</th>\n",
       "      <th>PM2.5</th>\n",
       "      <th>PM10</th>\n",
       "      <th>NO2</th>\n",
       "      <th>CO</th>\n",
       "      <th>O3</th>\n",
       "      <th>SO2</th>\n",
       "      <th>Pollutant_Concentration</th>\n",
       "    </tr>\n",
       "  </thead>\n",
       "  <tbody>\n",
       "    <tr>\n",
       "      <th>0</th>\n",
       "      <td>Delhi</td>\n",
       "      <td>2024-01-01</td>\n",
       "      <td>152</td>\n",
       "      <td>153</td>\n",
       "      <td>151</td>\n",
       "      <td>26.509131</td>\n",
       "      <td>1.581413</td>\n",
       "      <td>123.401530</td>\n",
       "      <td>25.062474</td>\n",
       "      <td>480.554548</td>\n",
       "    </tr>\n",
       "    <tr>\n",
       "      <th>1</th>\n",
       "      <td>Delhi</td>\n",
       "      <td>2024-01-02</td>\n",
       "      <td>264</td>\n",
       "      <td>288</td>\n",
       "      <td>268</td>\n",
       "      <td>87.955853</td>\n",
       "      <td>1.242119</td>\n",
       "      <td>144.533790</td>\n",
       "      <td>5.926302</td>\n",
       "      <td>795.658064</td>\n",
       "    </tr>\n",
       "    <tr>\n",
       "      <th>2</th>\n",
       "      <td>Delhi</td>\n",
       "      <td>2024-01-03</td>\n",
       "      <td>307</td>\n",
       "      <td>344</td>\n",
       "      <td>357</td>\n",
       "      <td>94.469744</td>\n",
       "      <td>0.101480</td>\n",
       "      <td>198.520196</td>\n",
       "      <td>32.786668</td>\n",
       "      <td>1026.878088</td>\n",
       "    </tr>\n",
       "    <tr>\n",
       "      <th>3</th>\n",
       "      <td>Delhi</td>\n",
       "      <td>2024-01-04</td>\n",
       "      <td>363</td>\n",
       "      <td>334</td>\n",
       "      <td>347</td>\n",
       "      <td>12.075618</td>\n",
       "      <td>1.097072</td>\n",
       "      <td>85.973585</td>\n",
       "      <td>7.099955</td>\n",
       "      <td>787.246230</td>\n",
       "    </tr>\n",
       "    <tr>\n",
       "      <th>4</th>\n",
       "      <td>Delhi</td>\n",
       "      <td>2024-01-05</td>\n",
       "      <td>237</td>\n",
       "      <td>266</td>\n",
       "      <td>250</td>\n",
       "      <td>51.046299</td>\n",
       "      <td>1.591834</td>\n",
       "      <td>47.938019</td>\n",
       "      <td>28.140550</td>\n",
       "      <td>644.716701</td>\n",
       "    </tr>\n",
       "  </tbody>\n",
       "</table>\n",
       "</div>"
      ],
      "text/plain": [
       "    City        Date  AQI  PM2.5  PM10        NO2        CO          O3  \\\n",
       "0  Delhi  2024-01-01  152    153   151  26.509131  1.581413  123.401530   \n",
       "1  Delhi  2024-01-02  264    288   268  87.955853  1.242119  144.533790   \n",
       "2  Delhi  2024-01-03  307    344   357  94.469744  0.101480  198.520196   \n",
       "3  Delhi  2024-01-04  363    334   347  12.075618  1.097072   85.973585   \n",
       "4  Delhi  2024-01-05  237    266   250  51.046299  1.591834   47.938019   \n",
       "\n",
       "         SO2  Pollutant_Concentration  \n",
       "0  25.062474               480.554548  \n",
       "1   5.926302               795.658064  \n",
       "2  32.786668              1026.878088  \n",
       "3   7.099955               787.246230  \n",
       "4  28.140550               644.716701  "
      ]
     },
     "execution_count": 12,
     "metadata": {},
     "output_type": "execute_result"
    }
   ],
   "source": [
    "#Adding the new Column\n",
    "df['Pollutant_Concentration']=Pollutant_Concentration\n",
    "df.head()"
   ]
  },
  {
   "cell_type": "code",
   "execution_count": 13,
   "metadata": {},
   "outputs": [],
   "source": [
    "#Saving the File\n",
    "df.to_csv('pollutant.txt')"
   ]
  },
  {
   "cell_type": "code",
   "execution_count": null,
   "metadata": {},
   "outputs": [],
   "source": []
  }
 ],
 "metadata": {
  "kernelspec": {
   "display_name": "Python 3",
   "language": "python",
   "name": "python3"
  },
  "language_info": {
   "codemirror_mode": {
    "name": "ipython",
    "version": 3
   },
   "file_extension": ".py",
   "mimetype": "text/x-python",
   "name": "python",
   "nbconvert_exporter": "python",
   "pygments_lexer": "ipython3",
   "version": "3.9.12"
  }
 },
 "nbformat": 4,
 "nbformat_minor": 2
}
